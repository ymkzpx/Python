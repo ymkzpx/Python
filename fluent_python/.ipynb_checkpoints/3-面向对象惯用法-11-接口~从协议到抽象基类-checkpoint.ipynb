{
 "cells": [
  {
   "cell_type": "markdown",
   "id": "2a225e04",
   "metadata": {},
   "source": [
    "# 接口：从协议到抽象基类\n",
    "\n",
    "> ”抽象类表示接口“ --- C++之父\n",
    "\n",
    "联想到 C++ 中基类的虚函数，只定义方法，但不实现方法。"
   ]
  },
  {
   "cell_type": "markdown",
   "id": "1bf456fd",
   "metadata": {},
   "source": [
    "## 1、Python 文化中的接口和协议"
   ]
  },
  {
   "cell_type": "markdown",
   "id": "359e62aa",
   "metadata": {},
   "source": [
    "类中的常规变量和方法都是 public 属性。\n",
    "\n",
    "带有双下划线的变量和方法才是 private。\n",
    "- \\_\\_x\n",
    "- \\_\\_func"
   ]
  },
  {
   "cell_type": "markdown",
   "id": "59d30ccc",
   "metadata": {},
   "source": [
    "接口：对象公开方法的子集，让对象在系统中扮演的特定角色。一个类可能实现多个接口，从而让实例扮演多个角色。"
   ]
  },
  {
   "cell_type": "markdown",
   "id": "9a3cc9e7",
   "metadata": {},
   "source": [
    "## 2、Python喜欢序列\n",
    "\n",
    "Python 会特殊看待像是序列的对象，会尽量的调用已有方法满足不同的方法。"
   ]
  },
  {
   "cell_type": "markdown",
   "id": "25581420",
   "metadata": {},
   "source": [
    "## 3、使用猴子补丁在运行时实现协议\n",
    "\n",
    "猴子补丁的定义：在运行时动态修改类和模块，而不改动源码。"
   ]
  },
  {
   "cell_type": "code",
   "execution_count": 12,
   "id": "e6add3ce",
   "metadata": {},
   "outputs": [
    {
     "ename": "TypeError",
     "evalue": "'FrenchDeck' object does not support item assignment",
     "output_type": "error",
     "traceback": [
      "\u001b[0;31m---------------------------------------------------------------------------\u001b[0m",
      "\u001b[0;31mTypeError\u001b[0m                                 Traceback (most recent call last)",
      "Cell \u001b[0;32mIn[12], line 15\u001b[0m\n\u001b[1;32m     11\u001b[0m \u001b[38;5;28;01mimport\u001b[39;00m \u001b[38;5;21;01mrandom\u001b[39;00m\n\u001b[1;32m     13\u001b[0m deck \u001b[38;5;241m=\u001b[39m FrenchDeck()\n\u001b[0;32m---> 15\u001b[0m \u001b[43mrandom\u001b[49m\u001b[38;5;241;43m.\u001b[39;49m\u001b[43mshuffle\u001b[49m\u001b[43m(\u001b[49m\u001b[43mdeck\u001b[49m\u001b[43m)\u001b[49m\n",
      "File \u001b[0;32m~/anaconda3/lib/python3.10/random.py:394\u001b[0m, in \u001b[0;36mRandom.shuffle\u001b[0;34m(self, x, random)\u001b[0m\n\u001b[1;32m    391\u001b[0m     \u001b[38;5;28;01mfor\u001b[39;00m i \u001b[38;5;129;01min\u001b[39;00m \u001b[38;5;28mreversed\u001b[39m(\u001b[38;5;28mrange\u001b[39m(\u001b[38;5;241m1\u001b[39m, \u001b[38;5;28mlen\u001b[39m(x))):\n\u001b[1;32m    392\u001b[0m         \u001b[38;5;66;03m# pick an element in x[:i+1] with which to exchange x[i]\u001b[39;00m\n\u001b[1;32m    393\u001b[0m         j \u001b[38;5;241m=\u001b[39m randbelow(i \u001b[38;5;241m+\u001b[39m \u001b[38;5;241m1\u001b[39m)\n\u001b[0;32m--> 394\u001b[0m         x[i], x[j] \u001b[38;5;241m=\u001b[39m x[j], x[i]\n\u001b[1;32m    395\u001b[0m \u001b[38;5;28;01melse\u001b[39;00m:\n\u001b[1;32m    396\u001b[0m     _warn(\u001b[38;5;124m'\u001b[39m\u001b[38;5;124mThe *random* parameter to shuffle() has been deprecated\u001b[39m\u001b[38;5;130;01m\\n\u001b[39;00m\u001b[38;5;124m'\u001b[39m\n\u001b[1;32m    397\u001b[0m           \u001b[38;5;124m'\u001b[39m\u001b[38;5;124msince Python 3.9 and will be removed in a subsequent \u001b[39m\u001b[38;5;124m'\u001b[39m\n\u001b[1;32m    398\u001b[0m           \u001b[38;5;124m'\u001b[39m\u001b[38;5;124mversion.\u001b[39m\u001b[38;5;124m'\u001b[39m,\n\u001b[1;32m    399\u001b[0m           \u001b[38;5;167;01mDeprecationWarning\u001b[39;00m, \u001b[38;5;241m2\u001b[39m)\n",
      "\u001b[0;31mTypeError\u001b[0m: 'FrenchDeck' object does not support item assignment"
     ]
    }
   ],
   "source": [
    "class FrenchDeck:\n",
    "    def __init__(self):\n",
    "        self._cards = [1, 2, 3]\n",
    "    \n",
    "    def __len__(self):\n",
    "        return len(self._cards)\n",
    "    \n",
    "    def __getitem__(self, position):\n",
    "        return self._cards[position]\n",
    "\n",
    "import random\n",
    "\n",
    "deck = FrenchDeck()\n",
    "\n",
    "random.shuffle(deck)"
   ]
  },
  {
   "cell_type": "markdown",
   "id": "f810a9fc",
   "metadata": {},
   "source": [
    "**对象默认的是不可变序列，可变序列必须提供 \\_\\_setitem\\_\\_ 方法。**"
   ]
  },
  {
   "cell_type": "markdown",
   "id": "2349c19a",
   "metadata": {},
   "source": [
    "为了解决上述问题，可以实现 FrenchDeck 的 \\_\\_setitem\\_\\_ 的方法，或者由于 Python 是动态语言，可以交互式的定义 \\_\\_setitem\\_\\_ 方法。"
   ]
  },
  {
   "cell_type": "code",
   "execution_count": 24,
   "id": "a0af1938",
   "metadata": {},
   "outputs": [
    {
     "data": {
      "text/plain": [
       "[3, 2, 1]"
      ]
     },
     "execution_count": 24,
     "metadata": {},
     "output_type": "execute_result"
    }
   ],
   "source": [
    "def set_card(deck, position, card):\n",
    "    deck._cards[position] = card\n",
    "FrenchDeck.__setitem__ = set_card\n",
    "random.shuffle(deck)\n",
    "deck[:]"
   ]
  },
  {
   "cell_type": "markdown",
   "id": "bc44b01c",
   "metadata": {},
   "source": [
    "注：特殊 \\_\\_setitem\\_\\_ 方法在 Pytho 参考手册中的参数是 (self, key, value)，而这里使用 (deck, position, card)。\n",
    "\n",
    "**说明了，每个 Python 方法到底都是普通函数，把第一个参数命名为 self 只是一种约定。**"
   ]
  },
  {
   "cell_type": "markdown",
   "id": "ed3f009b",
   "metadata": {},
   "source": [
    "## 4、Alex Martelli 的水禽\n",
    "\n",
    "下面是讲解抽象基类。"
   ]
  },
  {
   "cell_type": "code",
   "execution_count": 16,
   "id": "d1d96115",
   "metadata": {},
   "outputs": [],
   "source": [
    "from abc import ABC, ABCMeta\n",
    "class A():\n",
    "    def __init__(self):\n",
    "        pass\n",
    "a = A()"
   ]
  },
  {
   "cell_type": "code",
   "execution_count": 11,
   "id": "3420d0b4",
   "metadata": {},
   "outputs": [
    {
     "data": {
      "text/plain": [
       "True"
      ]
     },
     "execution_count": 11,
     "metadata": {},
     "output_type": "execute_result"
    }
   ],
   "source": [
    "isinstance(a, A)"
   ]
  },
  {
   "cell_type": "markdown",
   "id": "bdb754f7",
   "metadata": {},
   "source": [
    "## 5、定义抽象基类的子类"
   ]
  },
  {
   "cell_type": "markdown",
   "id": "1e6fa932",
   "metadata": {},
   "source": [
    "一个必须遵守的规则：利用现有的抽象基类。\n",
    "\n",
    "声明抽象基类的子类的方法，就是类声明的时候，注明父类为抽象基类。"
   ]
  },
  {
   "cell_type": "markdown",
   "id": "63d925ec",
   "metadata": {},
   "source": [
    "## 6、标准库中的抽象基类\n",
    "\n",
    "讨论抽象基类通常不用考虑多重继承。\n",
    "\n",
    "### abc 包中的 ABC"
   ]
  },
  {
   "cell_type": "markdown",
   "id": "10ab9dc8",
   "metadata": {},
   "source": [
    "collection.abc 模块定义了16个抽象基类。\n",
    "\n",
    "MixIn混入方法：各个基类提供了抽象方法和具体方法。"
   ]
  }
 ],
 "metadata": {
  "kernelspec": {
   "display_name": "Python 3 (ipykernel)",
   "language": "python",
   "name": "python3"
  },
  "language_info": {
   "codemirror_mode": {
    "name": "ipython",
    "version": 3
   },
   "file_extension": ".py",
   "mimetype": "text/x-python",
   "name": "python",
   "nbconvert_exporter": "python",
   "pygments_lexer": "ipython3",
   "version": "3.10.9"
  }
 },
 "nbformat": 4,
 "nbformat_minor": 5
}
