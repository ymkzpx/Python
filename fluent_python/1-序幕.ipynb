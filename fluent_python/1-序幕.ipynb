{
 "cells": [
  {
   "cell_type": "markdown",
   "id": "19a4c020",
   "metadata": {},
   "source": [
    "# 对象的内置方法"
   ]
  },
  {
   "cell_type": "markdown",
   "id": "b09f70b3",
   "metadata": {},
   "source": [
    "- 内置方法形式：\\_\\_xxx\\_\\_"
   ]
  },
  {
   "cell_type": "markdown",
   "id": "bee0f974",
   "metadata": {},
   "source": [
    "## 1、\\_\\_repr\\_\\_：用字符串表示对象"
   ]
  },
  {
   "cell_type": "code",
   "execution_count": 2,
   "id": "fe1e1996",
   "metadata": {},
   "outputs": [],
   "source": [
    "from typing import Tuple"
   ]
  },
  {
   "cell_type": "code",
   "execution_count": 9,
   "id": "9f1d46e5",
   "metadata": {},
   "outputs": [],
   "source": [
    "a = (1, 2)"
   ]
  },
  {
   "cell_type": "code",
   "execution_count": 14,
   "id": "293837ff",
   "metadata": {},
   "outputs": [
    {
     "data": {
      "text/plain": [
       "'typing.Tuple'"
      ]
     },
     "execution_count": 14,
     "metadata": {},
     "output_type": "execute_result"
    }
   ],
   "source": [
    "repr(Tuple)"
   ]
  },
  {
   "cell_type": "code",
   "execution_count": 15,
   "id": "b9b54c61",
   "metadata": {},
   "outputs": [
    {
     "data": {
      "text/plain": [
       "'(1, 2)'"
      ]
     },
     "execution_count": 15,
     "metadata": {},
     "output_type": "execute_result"
    }
   ],
   "source": [
    "repr(a)"
   ]
  },
  {
   "cell_type": "markdown",
   "id": "a38e91ac",
   "metadata": {},
   "source": [
    "## 2、元对象"
   ]
  },
  {
   "cell_type": "markdown",
   "id": "4529349e",
   "metadata": {},
   "source": [
    "> 元对象所指的是那些对建构语言本身来讲很重要的对象，以此为前提，协议(方法定义的规范)也可以看作接口。\n",
    "> \n",
    "> 也就是说，元对象协议是对象模型的同义词，它们的意思都是构建核心语言的API。\n",
    "> \n",
    "> 比如：abc pkg 中的 ABC 和 ABCMeta 都是元对象。"
   ]
  },
  {
   "cell_type": "code",
   "execution_count": null,
   "id": "47a83f11",
   "metadata": {},
   "outputs": [],
   "source": []
  }
 ],
 "metadata": {
  "kernelspec": {
   "display_name": "Python 3 (ipykernel)",
   "language": "python",
   "name": "python3"
  },
  "language_info": {
   "codemirror_mode": {
    "name": "ipython",
    "version": 3
   },
   "file_extension": ".py",
   "mimetype": "text/x-python",
   "name": "python",
   "nbconvert_exporter": "python",
   "pygments_lexer": "ipython3",
   "version": "3.10.9"
  }
 },
 "nbformat": 4,
 "nbformat_minor": 5
}
