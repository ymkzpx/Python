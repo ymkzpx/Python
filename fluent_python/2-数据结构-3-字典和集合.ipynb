{
 "cells": [
  {
   "cell_type": "markdown",
   "id": "7d10dda3",
   "metadata": {},
   "source": [
    "# 字典和集合\n",
    "\n",
    "字典和集合的实现基于散列表。"
   ]
  },
  {
   "cell_type": "markdown",
   "id": "1658bbb0",
   "metadata": {},
   "source": [
    "## 1、泛映射"
   ]
  }
 ],
 "metadata": {
  "kernelspec": {
   "display_name": "Python 3 (ipykernel)",
   "language": "python",
   "name": "python3"
  },
  "language_info": {
   "codemirror_mode": {
    "name": "ipython",
    "version": 3
   },
   "file_extension": ".py",
   "mimetype": "text/x-python",
   "name": "python",
   "nbconvert_exporter": "python",
   "pygments_lexer": "ipython3",
   "version": "3.10.9"
  }
 },
 "nbformat": 4,
 "nbformat_minor": 5
}
