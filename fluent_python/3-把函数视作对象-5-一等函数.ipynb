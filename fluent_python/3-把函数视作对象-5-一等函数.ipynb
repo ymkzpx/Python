{
 "cells": [
  {
   "cell_type": "markdown",
   "id": "f42ada36",
   "metadata": {},
   "source": [
    "# 一等函数\n",
    "\n",
    "在 Python 中，所有函数都是一等函数。"
   ]
  },
  {
   "cell_type": "markdown",
   "id": "8b9f4b89",
   "metadata": {},
   "source": [
    "## 1、把函数是做对象"
   ]
  },
  {
   "cell_type": "code",
   "execution_count": 7,
   "id": "3c8d2c47",
   "metadata": {},
   "outputs": [
    {
     "data": {
      "text/plain": [
       "'return n!'"
      ]
     },
     "execution_count": 7,
     "metadata": {},
     "output_type": "execute_result"
    }
   ],
   "source": [
    "def fac(n):\n",
    "    '''return n!'''\n",
    "    return 1 if n < 2 else n * fac(n - 1)\n",
    "\n",
    "fac.__doc__"
   ]
  },
  {
   "cell_type": "markdown",
   "id": "bf539c35",
   "metadata": {},
   "source": [
    "**函数对象的一等本性, 可以把函数当做对象和参数。**"
   ]
  },
  {
   "cell_type": "code",
   "execution_count": 16,
   "id": "c7f33255",
   "metadata": {},
   "outputs": [
    {
     "data": {
      "text/plain": [
       "<function __main__.fac(n)>"
      ]
     },
     "execution_count": 16,
     "metadata": {},
     "output_type": "execute_result"
    }
   ],
   "source": [
    "f = fac\n",
    "f"
   ]
  },
  {
   "cell_type": "code",
   "execution_count": 17,
   "id": "ec66738f",
   "metadata": {},
   "outputs": [
    {
     "data": {
      "text/plain": [
       "[1, 1, 2]"
      ]
     },
     "execution_count": 17,
     "metadata": {},
     "output_type": "execute_result"
    }
   ],
   "source": [
    "map(f, range(3))\n",
    "list(map(f, range(3)))"
   ]
  },
  {
   "cell_type": "markdown",
   "id": "eb239b5f",
   "metadata": {},
   "source": [
    "## 2、高阶函数\n",
    "\n",
    "定义：接受函数为参数，或者把函数作为结果返回的函数是高级函数。比如内置函数 sorted，其 key 参数用于提供一个函数，它会应用到每个元素上进行排序。任意的单参数函数都能作为key参数的值。"
   ]
  },
  {
   "cell_type": "code",
   "execution_count": 21,
   "id": "12d8ce3e",
   "metadata": {},
   "outputs": [
    {
     "data": {
      "text/plain": [
       "['fig', 'apple', 'banana']"
      ]
     },
     "execution_count": 21,
     "metadata": {},
     "output_type": "execute_result"
    }
   ],
   "source": [
    "fruits = ['fig', 'apple', 'banana']\n",
    "sorted(fruits, key=len)"
   ]
  },
  {
   "cell_type": "markdown",
   "id": "1d6ca9e5",
   "metadata": {},
   "source": [
    "### map、filter、reduce的现代替代品\n",
    "\n",
    "map、filter、reduce 都是高阶函数。\n",
    "\n",
    "map、filter、reduce 可以使用列表推导和生成器表达式替代，并且具有更好的可读性。"
   ]
  },
  {
   "cell_type": "markdown",
   "id": "d17bc262",
   "metadata": {},
   "source": [
    "## 3、匿名函数\n",
    "\n",
    "[lambda关键字用法](https://zhuanlan.zhihu.com/p/58579207)\n",
    "\n",
    "lambda x,y: x\\*y\n",
    "- x,y 是参数。\n",
    "- x\\*y 是返回值。"
   ]
  },
  {
   "cell_type": "code",
   "execution_count": 22,
   "id": "e1755951",
   "metadata": {},
   "outputs": [
    {
     "data": {
      "text/plain": [
       "['banana', 'apple', 'fig']"
      ]
     },
     "execution_count": 22,
     "metadata": {},
     "output_type": "execute_result"
    }
   ],
   "source": [
    "fruits = ['fig', 'apple', 'banana']\n",
    "sorted_f = sorted(fruits, key=lambda word: word[::-1])\n",
    "sorted_f"
   ]
  },
  {
   "cell_type": "markdown",
   "id": "2dbf9008",
   "metadata": {},
   "source": [
    "## 4、可调用对象\n",
    "\n",
    "- 可调用对象：类、函数。\n",
    "- 不可调用对象：整数变量(int: 13)\n",
    "\n",
    "判断对象能否调用，最安全的方法是使用内置的callable()函数。"
   ]
  },
  {
   "cell_type": "code",
   "execution_count": 24,
   "id": "253a1f2f",
   "metadata": {},
   "outputs": [
    {
     "data": {
      "text/plain": [
       "[True, True, False]"
      ]
     },
     "execution_count": 24,
     "metadata": {},
     "output_type": "execute_result"
    }
   ],
   "source": [
    "[callable(obj) for obj in (abs, str, 13)]"
   ]
  },
  {
   "cell_type": "markdown",
   "id": "82ac8102",
   "metadata": {},
   "source": [
    "调用类的过程：\n",
    "1. \\_\\_new\\_\\_ 方法创建一个实例。\n",
    "2. \\_\\_init\\_\\_ 方法，初始化实例。"
   ]
  },
  {
   "cell_type": "code",
   "execution_count": null,
   "id": "a9eac6ec",
   "metadata": {},
   "outputs": [],
   "source": [
    "5"
   ]
  }
 ],
 "metadata": {
  "kernelspec": {
   "display_name": "Python 3 (ipykernel)",
   "language": "python",
   "name": "python3"
  },
  "language_info": {
   "codemirror_mode": {
    "name": "ipython",
    "version": 3
   },
   "file_extension": ".py",
   "mimetype": "text/x-python",
   "name": "python",
   "nbconvert_exporter": "python",
   "pygments_lexer": "ipython3",
   "version": "3.10.9"
  }
 },
 "nbformat": 4,
 "nbformat_minor": 5
}
