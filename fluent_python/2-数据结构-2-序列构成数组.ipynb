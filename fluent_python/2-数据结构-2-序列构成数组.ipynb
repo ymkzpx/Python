{
 "cells": [
  {
   "cell_type": "markdown",
   "id": "11c53def",
   "metadata": {},
   "source": [
    "# 序列构成的数组"
   ]
  },
  {
   "cell_type": "markdown",
   "id": "a823e5c3",
   "metadata": {},
   "source": [
    "## 1、内置序列类型概览"
   ]
  },
  {
   "cell_type": "markdown",
   "id": "e822a827",
   "metadata": {},
   "source": [
    "- 容器序列：list、tuple、collections\n",
    "- 扁平序列：str、array.array\n",
    "\n",
    "区别：\n",
    "- 容器序列\n",
    "    - 可以存放不同类型的数据。\n",
    "    - 存放的是引用。\n",
    "- 扁平序列存放的是值。\n",
    "    - 只能存放一种类型。\n",
    "    - 存放的是值。\n",
    "    \n",
    "    \n",
    "序列类型中的可变和不可变类型\n",
    "- 可变：list、array.array\n",
    "- 不可变：tuple、str、bytes"
   ]
  },
  {
   "cell_type": "markdown",
   "id": "5b035653",
   "metadata": {},
   "source": [
    "## 2、列表推导和生成器表达式"
   ]
  },
  {
   "cell_type": "markdown",
   "id": "c4abdd85",
   "metadata": {},
   "source": [
    "### 列表推导：a = [x for x in d]\n",
    "\n",
    "列表推导的作用：生成列表。"
   ]
  },
  {
   "cell_type": "markdown",
   "id": "e7290022",
   "metadata": {},
   "source": [
    "### 生成器表达式\n",
    "\n",
    "生成器表达式相比列表推导更加节省内存，原因是：生成器表达式使用迭代器协议，可以逐个产生元素，而不是先建立一个完整的列表，然后再把这个列表传递到某个构造函数里。\n",
    "\n",
    "使用方法：生成器表达式的语法和列表推导差不多，只不过把方括号换成圆括号而已。\n",
    "\n",
    "下面这个例子，生成器表达式逐个产出元素，从来不会一次性产出一个含有6个T恤样式的列表。"
   ]
  },
  {
   "cell_type": "code",
   "execution_count": 2,
   "id": "e01bc50a",
   "metadata": {},
   "outputs": [
    {
     "name": "stdout",
     "output_type": "stream",
     "text": [
      "b s\n",
      "b m\n",
      "b l\n",
      "w s\n",
      "w m\n",
      "w l\n"
     ]
    }
   ],
   "source": [
    "color = ['b', 'w']\n",
    "size = ['s', 'm', 'l']\n",
    "\n",
    "for ts in ('%s %s'%(c, s) for c in color for s in size):\n",
    "    print(ts)"
   ]
  },
  {
   "cell_type": "markdown",
   "id": "d54b2999",
   "metadata": {},
   "source": [
    "## 3、元组不仅仅是不可变的列表"
   ]
  },
  {
   "cell_type": "markdown",
   "id": "628ae3d3",
   "metadata": {},
   "source": [
    "### 元组拆包"
   ]
  },
  {
   "cell_type": "code",
   "execution_count": 3,
   "id": "8ba1fe63",
   "metadata": {},
   "outputs": [],
   "source": [
    "x, y = (1, 2)"
   ]
  },
  {
   "cell_type": "markdown",
   "id": "5a66be5e",
   "metadata": {},
   "source": [
    "**\\*运算符可以把一个可迭代对象拆开作为函数的参数。**"
   ]
  },
  {
   "cell_type": "code",
   "execution_count": 5,
   "id": "e72c0522",
   "metadata": {},
   "outputs": [
    {
     "data": {
      "text/plain": [
       "(2, 4)"
      ]
     },
     "execution_count": 5,
     "metadata": {},
     "output_type": "execute_result"
    }
   ],
   "source": [
    "divmod(20, 8)\n",
    "\n",
    "t = (20, 8)\n",
    "divmod(*t)\n",
    "\n",
    "quotient, remainder = divmod(*t)\n",
    "quotient, remainder"
   ]
  },
  {
   "cell_type": "markdown",
   "id": "d0dcf246",
   "metadata": {},
   "source": [
    "## 平行赋值\n",
    "\n",
    "在平行赋值中，\\*前缀只能用在一个变量名前面，但是这个变量可以出现在赋值表达式的任意位置。"
   ]
  },
  {
   "cell_type": "code",
   "execution_count": 8,
   "id": "25b955d2",
   "metadata": {},
   "outputs": [
    {
     "name": "stdout",
     "output_type": "stream",
     "text": [
      "0 1 [2, 3, 4]\n",
      "0 1 []\n",
      "0 4 [1, 2, 3]\n"
     ]
    }
   ],
   "source": [
    "a, b, *res = range(5)\n",
    "\n",
    "a, b, *res = range(2)\n",
    "\n",
    "a, *res, b = range(5)"
   ]
  },
  {
   "cell_type": "markdown",
   "id": "b12be701",
   "metadata": {},
   "source": [
    "### namedtuple\n",
    "\n",
    "创建具名元组需要两个参数：类名 + 类各个字段的名字([name1、name2 ...] / (name1、name2 ...) / 'name1 name2 ...')。 "
   ]
  },
  {
   "cell_type": "code",
   "execution_count": 9,
   "id": "0ccb7287",
   "metadata": {},
   "outputs": [
    {
     "name": "stdout",
     "output_type": "stream",
     "text": [
      "City(name='Tokyo', country='JP', population=36, corrdinates=(35, 139))\n",
      "Tokyo JP 36\n",
      "Tokyo Tokyo JP 36 (35, 139)\n"
     ]
    }
   ],
   "source": [
    "from collections import namedtuple\n",
    "\n",
    "City = namedtuple('City', 'name country population corrdinates')\n",
    "tokyp = City('Tokyo', 'JP', 36, (35, 139))\n",
    "print(tokyp)\n",
    "print(tokyp[0], tokyp[1], tokyp[2])\n",
    "print(tokyp.name, tokyp.name, tokyp.country, tokyp.population, tokyp.corrdinates)"
   ]
  },
  {
   "cell_type": "markdown",
   "id": "39091843",
   "metadata": {},
   "source": [
    "#### namedtuple专有属性\n",
    "\n",
    "**\\_fields 类属性**"
   ]
  },
  {
   "cell_type": "code",
   "execution_count": 10,
   "id": "6382aee3",
   "metadata": {},
   "outputs": [
    {
     "data": {
      "text/plain": [
       "('name', 'country', 'population', 'corrdinates')"
      ]
     },
     "execution_count": 10,
     "metadata": {},
     "output_type": "execute_result"
    }
   ],
   "source": [
    "City._fields"
   ]
  },
  {
   "cell_type": "markdown",
   "id": "fa55edb7",
   "metadata": {},
   "source": [
    "**\\_make(iterable)**"
   ]
  },
  {
   "cell_type": "code",
   "execution_count": 17,
   "id": "ea9a4324",
   "metadata": {},
   "outputs": [
    {
     "data": {
      "text/plain": [
       "City(name='China', country='Beijing', population=36, corrdinates=(35, 139))"
      ]
     },
     "execution_count": 17,
     "metadata": {},
     "output_type": "execute_result"
    }
   ],
   "source": [
    "china_data = ('China', 'Beijing', 36, (35, 139))\n",
    "china = City._make(china_data)\n",
    "china"
   ]
  },
  {
   "cell_type": "markdown",
   "id": "ecd6e3e0",
   "metadata": {},
   "source": [
    "**\\_asdict()**"
   ]
  },
  {
   "cell_type": "code",
   "execution_count": 18,
   "id": "b6368f7f",
   "metadata": {},
   "outputs": [
    {
     "data": {
      "text/plain": [
       "{'name': 'China',\n",
       " 'country': 'Beijing',\n",
       " 'population': 36,\n",
       " 'corrdinates': (35, 139)}"
      ]
     },
     "execution_count": 18,
     "metadata": {},
     "output_type": "execute_result"
    }
   ],
   "source": [
    "china._asdict()"
   ]
  },
  {
   "cell_type": "markdown",
   "id": "3ab55d57",
   "metadata": {},
   "source": [
    "## 4、切片\n",
    "\n",
    "切片的黑科技。"
   ]
  },
  {
   "cell_type": "markdown",
   "id": "57fec494",
   "metadata": {},
   "source": [
    "**为什么切片和区间会忽略最后一个元素？**\n",
    "\n",
    "1. range(3), mylist[:3] 都返回三个元素。\n",
    "2. 切片和区间长度方便计算，stop-start。\n",
    "3. 任意一个下标可以讲序列分割成不重叠的两部分，my_list[:x] 和 my_list[x:]。"
   ]
  },
  {
   "cell_type": "markdown",
   "id": "6250be30",
   "metadata": {},
   "source": [
    "**对对象进行切片**\n",
    "\n",
    "seq[start: end: step]"
   ]
  },
  {
   "cell_type": "code",
   "execution_count": 21,
   "id": "030a27ee",
   "metadata": {},
   "outputs": [
    {
     "name": "stdout",
     "output_type": "stream",
     "text": [
      "ace\n",
      "fdb\n"
     ]
    }
   ],
   "source": [
    "a = 'abcdef'\n",
    "s1 = a[::2]\n",
    "s2 = a[::-2]"
   ]
  },
  {
   "cell_type": "markdown",
   "id": "7465263f",
   "metadata": {},
   "source": [
    "**切片赋值**"
   ]
  },
  {
   "cell_type": "code",
   "execution_count": 27,
   "id": "9de9a481",
   "metadata": {},
   "outputs": [
    {
     "data": {
      "text/plain": [
       "[0, 1, 20, 30, 4, 5, 6, 7, 8, 9]"
      ]
     },
     "execution_count": 27,
     "metadata": {},
     "output_type": "execute_result"
    }
   ],
   "source": [
    "l = list(range(10))\n",
    "l[2:4] = [20, 30]\n",
    "l"
   ]
  },
  {
   "cell_type": "code",
   "execution_count": 28,
   "id": "e8c20528",
   "metadata": {},
   "outputs": [
    {
     "data": {
      "text/plain": [
       "[0, 1, 4, 5, 6, 7, 8, 9]"
      ]
     },
     "execution_count": 28,
     "metadata": {},
     "output_type": "execute_result"
    }
   ],
   "source": [
    "del l[2:4]\n",
    "l"
   ]
  },
  {
   "cell_type": "markdown",
   "id": "15198384",
   "metadata": {},
   "source": [
    "## 5、对序列使用 + 和 *\n",
    "\n",
    "序列默认支持+和*，拼接序列不会被改变，新建一个包含同样数据类型的序列作为拼接结果。\n",
    "\n",
    "**如果在 a * n 这个语句中，序列a里的元素是对其他可变对象的引用的话，你就需要格外注意了，因为这个式子的结果可能会出乎意料。比如，你想用my_list=[[]] * 3来初始化一个由列表组成的列表，但是你得到的列表里包含的3个元素其实是3个引用，而且这3个引用指向的都是同一个列表。这可能不是你想要的效果。**"
   ]
  },
  {
   "cell_type": "code",
   "execution_count": 34,
   "id": "5aa343de",
   "metadata": {},
   "outputs": [
    {
     "name": "stdout",
     "output_type": "stream",
     "text": [
      "[[1, 2, 3], [1, 2, 3], [1, 2, 3]]\n",
      "[[1, 2, 0], [1, 2, 0], [1, 2, 0]]\n"
     ]
    }
   ],
   "source": [
    "w = [[1, 2, 3]] * 3\n",
    "print(w)\n",
    "w[1][2] = 0\n",
    "print(w)"
   ]
  },
  {
   "cell_type": "markdown",
   "id": "a8bce595",
   "metadata": {},
   "source": [
    "## 6、序列的增量赋值"
   ]
  },
  {
   "cell_type": "code",
   "execution_count": null,
   "id": "e4869569",
   "metadata": {},
   "outputs": [],
   "source": []
  }
 ],
 "metadata": {
  "kernelspec": {
   "display_name": "Python 3 (ipykernel)",
   "language": "python",
   "name": "python3"
  },
  "language_info": {
   "codemirror_mode": {
    "name": "ipython",
    "version": 3
   },
   "file_extension": ".py",
   "mimetype": "text/x-python",
   "name": "python",
   "nbconvert_exporter": "python",
   "pygments_lexer": "ipython3",
   "version": "3.10.9"
  }
 },
 "nbformat": 4,
 "nbformat_minor": 5
}
