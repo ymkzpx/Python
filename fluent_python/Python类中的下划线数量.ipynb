{
 "cells": [
  {
   "cell_type": "markdown",
   "id": "35b2f3e7",
   "metadata": {},
   "source": [
    "在Python中，类中的变量和方法名可以有不同的下划线命名方式，它们的区别如下：\n",
    "\n",
    "1. 不带下划线（public）：表示公共变量或方法，可以被类的内部和外部代码访问。\n",
    "\n",
    "2. 带一个下划线（protected）：表示受保护的变量或方法，只能被类及其子类访问，不能被外部代码访问。但实际上，这种形式并不能真正限制外部代码对其的访问，只是告诉使用者应该把它当做受保护的。\n",
    "\n",
    "3. 带两个下划线（private）：表示私有变量或方法，只能被类内部的方法访问，不能被外部代码访问。Python采用了名称修饰（Name Mangling）机制，将变量或方法名前面加上`_类名`来实现对其的访问限制。\n",
    "\n",
    "例如：\n",
    "\n",
    "```\n",
    "class MyClass:\n",
    "    def __init__(self):\n",
    "        self.public_var = \"public\"\n",
    "        self._protected_var = \"protected\"\n",
    "        self.__private_var = \"private\"\n",
    "\n",
    "    def public_method(self):\n",
    "        print(\"This is a public method\")\n",
    "\n",
    "    def _protected_method(self):\n",
    "        print(\"This is a protected method\")\n",
    "\n",
    "    def __private_method(self):\n",
    "        print(\"This is a private method\")\n",
    "\n",
    "my_class = MyClass()\n",
    "\n",
    "print(my_class.public_var) # 输出: public\n",
    "print(my_class._protected_var) # 输出: protected\n",
    "print(my_class._MyClass__private_var) # 输出: private\n",
    "\n",
    "my_class.public_method() # 输出: This is a public method\n",
    "my_class._protected_method() # 输出: This is a protected method\n",
    "my_class._MyClass__private_method() # 输出: This is a private method\n",
    "```\n",
    "\n",
    "在上面的例子中，`public_var`是一个公共变量，可以被类的内部和外部代码访问；`_protected_var`是一个受保护的变量，只能被类及其子类访问，不建议直接使用；`__private_var`是一个私有变量，只能被类内部的方法访问，外部代码无法访问。对于方法而言，也有着相应的限制。"
   ]
  },
  {
   "cell_type": "code",
   "execution_count": null,
   "id": "d83f2238",
   "metadata": {},
   "outputs": [],
   "source": []
  }
 ],
 "metadata": {
  "kernelspec": {
   "display_name": "Python 3 (ipykernel)",
   "language": "python",
   "name": "python3"
  },
  "language_info": {
   "codemirror_mode": {
    "name": "ipython",
    "version": 3
   },
   "file_extension": ".py",
   "mimetype": "text/x-python",
   "name": "python",
   "nbconvert_exporter": "python",
   "pygments_lexer": "ipython3",
   "version": "3.10.9"
  }
 },
 "nbformat": 4,
 "nbformat_minor": 5
}
