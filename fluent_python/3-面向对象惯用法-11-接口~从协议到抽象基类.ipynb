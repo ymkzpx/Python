{
 "cells": [
  {
   "cell_type": "markdown",
   "id": "2a225e04",
   "metadata": {},
   "source": [
    "# 接口：从协议到抽象基类\n",
    "\n",
    "> ”抽象类表示接口“ --- C++之父\n",
    "\n",
    "联想到 C++ 中基类的虚函数，只定义方法，但不实现方法。"
   ]
  },
  {
   "cell_type": "markdown",
   "id": "1bf456fd",
   "metadata": {},
   "source": [
    "## 1、Python 文化中的接口和协议"
   ]
  },
  {
   "cell_type": "markdown",
   "id": "359e62aa",
   "metadata": {},
   "source": [
    "类中的常规变量和方法都是 public 属性。\n",
    "\n",
    "带有双下划线的变量和方法才是 private。\n",
    "- \\_\\_x\n",
    "- \\_\\_func"
   ]
  },
  {
   "cell_type": "markdown",
   "id": "59d30ccc",
   "metadata": {},
   "source": [
    "接口：对象公开方法的子集，让对象在系统中扮演的特定角色。一个类可能实现多个接口，从而让实例扮演多个角色。"
   ]
  },
  {
   "cell_type": "markdown",
   "id": "9a3cc9e7",
   "metadata": {},
   "source": [
    "## 2、Python喜欢序列\n",
    "\n",
    "Python 会特殊看待像是序列的对象，会尽量的调用已有方法满足不同的方法。"
   ]
  },
  {
   "cell_type": "markdown",
   "id": "25581420",
   "metadata": {},
   "source": [
    "## 3、使用猴子补丁在运行时实现协议\n",
    "\n",
    "猴子补丁的定义：在运行时动态修改类和模块，而不改动源码。"
   ]
  },
  {
   "cell_type": "code",
   "execution_count": 12,
   "id": "e6add3ce",
   "metadata": {},
   "outputs": [
    {
     "ename": "TypeError",
     "evalue": "'FrenchDeck' object does not support item assignment",
     "output_type": "error",
     "traceback": [
      "\u001b[0;31m---------------------------------------------------------------------------\u001b[0m",
      "\u001b[0;31mTypeError\u001b[0m                                 Traceback (most recent call last)",
      "Cell \u001b[0;32mIn[12], line 15\u001b[0m\n\u001b[1;32m     11\u001b[0m \u001b[38;5;28;01mimport\u001b[39;00m \u001b[38;5;21;01mrandom\u001b[39;00m\n\u001b[1;32m     13\u001b[0m deck \u001b[38;5;241m=\u001b[39m FrenchDeck()\n\u001b[0;32m---> 15\u001b[0m \u001b[43mrandom\u001b[49m\u001b[38;5;241;43m.\u001b[39;49m\u001b[43mshuffle\u001b[49m\u001b[43m(\u001b[49m\u001b[43mdeck\u001b[49m\u001b[43m)\u001b[49m\n",
      "File \u001b[0;32m~/anaconda3/lib/python3.10/random.py:394\u001b[0m, in \u001b[0;36mRandom.shuffle\u001b[0;34m(self, x, random)\u001b[0m\n\u001b[1;32m    391\u001b[0m     \u001b[38;5;28;01mfor\u001b[39;00m i \u001b[38;5;129;01min\u001b[39;00m \u001b[38;5;28mreversed\u001b[39m(\u001b[38;5;28mrange\u001b[39m(\u001b[38;5;241m1\u001b[39m, \u001b[38;5;28mlen\u001b[39m(x))):\n\u001b[1;32m    392\u001b[0m         \u001b[38;5;66;03m# pick an element in x[:i+1] with which to exchange x[i]\u001b[39;00m\n\u001b[1;32m    393\u001b[0m         j \u001b[38;5;241m=\u001b[39m randbelow(i \u001b[38;5;241m+\u001b[39m \u001b[38;5;241m1\u001b[39m)\n\u001b[0;32m--> 394\u001b[0m         x[i], x[j] \u001b[38;5;241m=\u001b[39m x[j], x[i]\n\u001b[1;32m    395\u001b[0m \u001b[38;5;28;01melse\u001b[39;00m:\n\u001b[1;32m    396\u001b[0m     _warn(\u001b[38;5;124m'\u001b[39m\u001b[38;5;124mThe *random* parameter to shuffle() has been deprecated\u001b[39m\u001b[38;5;130;01m\\n\u001b[39;00m\u001b[38;5;124m'\u001b[39m\n\u001b[1;32m    397\u001b[0m           \u001b[38;5;124m'\u001b[39m\u001b[38;5;124msince Python 3.9 and will be removed in a subsequent \u001b[39m\u001b[38;5;124m'\u001b[39m\n\u001b[1;32m    398\u001b[0m           \u001b[38;5;124m'\u001b[39m\u001b[38;5;124mversion.\u001b[39m\u001b[38;5;124m'\u001b[39m,\n\u001b[1;32m    399\u001b[0m           \u001b[38;5;167;01mDeprecationWarning\u001b[39;00m, \u001b[38;5;241m2\u001b[39m)\n",
      "\u001b[0;31mTypeError\u001b[0m: 'FrenchDeck' object does not support item assignment"
     ]
    }
   ],
   "source": [
    "class FrenchDeck:\n",
    "    def __init__(self):\n",
    "        self._cards = [1, 2, 3]\n",
    "    \n",
    "    def __len__(self):\n",
    "        return len(self._cards)\n",
    "    \n",
    "    def __getitem__(self, position):\n",
    "        return self._cards[position]\n",
    "\n",
    "import random\n",
    "\n",
    "deck = FrenchDeck()\n",
    "\n",
    "random.shuffle(deck)"
   ]
  },
  {
   "cell_type": "markdown",
   "id": "f810a9fc",
   "metadata": {},
   "source": [
    "**对象默认的是不可变序列，可变序列必须提供 \\_\\_setitem\\_\\_ 方法。**"
   ]
  },
  {
   "cell_type": "markdown",
   "id": "2349c19a",
   "metadata": {},
   "source": [
    "为了解决上述问题，可以实现 FrenchDeck 的 \\_\\_setitem\\_\\_ 的方法，或者由于 Python 是动态语言，可以交互式的定义 \\_\\_setitem\\_\\_ 方法。"
   ]
  },
  {
   "cell_type": "code",
   "execution_count": 24,
   "id": "a0af1938",
   "metadata": {},
   "outputs": [
    {
     "data": {
      "text/plain": [
       "[3, 2, 1]"
      ]
     },
     "execution_count": 24,
     "metadata": {},
     "output_type": "execute_result"
    }
   ],
   "source": [
    "def set_card(deck, position, card):\n",
    "    deck._cards[position] = card\n",
    "FrenchDeck.__setitem__ = set_card\n",
    "random.shuffle(deck)\n",
    "deck[:]"
   ]
  },
  {
   "cell_type": "markdown",
   "id": "bc44b01c",
   "metadata": {},
   "source": [
    "注：特殊 \\_\\_setitem\\_\\_ 方法在 Pytho 参考手册中的参数是 (self, key, value)，而这里使用 (deck, position, card)。\n",
    "\n",
    "**说明了，每个 Python 方法到底都是普通函数，把第一个参数命名为 self 只是一种约定。**"
   ]
  },
  {
   "cell_type": "markdown",
   "id": "ed3f009b",
   "metadata": {},
   "source": [
    "## 4、Alex Martelli 的水禽\n",
    "\n",
    "下面是讲解抽象基类。"
   ]
  },
  {
   "cell_type": "code",
   "execution_count": 16,
   "id": "d1d96115",
   "metadata": {},
   "outputs": [],
   "source": [
    "from abc import ABC, ABCMeta\n",
    "class A():\n",
    "    def __init__(self):\n",
    "        pass\n",
    "a = A()"
   ]
  },
  {
   "cell_type": "code",
   "execution_count": 11,
   "id": "3420d0b4",
   "metadata": {},
   "outputs": [
    {
     "data": {
      "text/plain": [
       "True"
      ]
     },
     "execution_count": 11,
     "metadata": {},
     "output_type": "execute_result"
    }
   ],
   "source": [
    "isinstance(a, A)"
   ]
  },
  {
   "cell_type": "markdown",
   "id": "bdb754f7",
   "metadata": {},
   "source": [
    "## 5、定义抽象基类的子类"
   ]
  },
  {
   "cell_type": "markdown",
   "id": "1e6fa932",
   "metadata": {},
   "source": [
    "一个必须遵守的规则：利用现有的抽象基类。\n",
    "\n",
    "声明抽象基类的子类的方法，就是类声明的时候，注明父类为抽象基类。"
   ]
  },
  {
   "cell_type": "markdown",
   "id": "63d925ec",
   "metadata": {},
   "source": [
    "## 6、标准库中的抽象基类\n",
    "\n",
    "讨论抽象基类通常不用考虑多重继承。\n",
    "\n",
    "### abc 包中的 ABC"
   ]
  },
  {
   "cell_type": "markdown",
   "id": "0a320bbb",
   "metadata": {},
   "source": [
    "collection.abc 模块定义了16个抽象基类。\n",
    "\n",
    "MixIn混入方法：各个基类提供了抽象方法和具体方法。"
   ]
  },
  {
   "cell_type": "markdown",
   "id": "2ae2f3b6",
   "metadata": {},
   "source": [
    "## 7、定义并使用一个抽象基类\n",
    "\n",
    "场景：创建一个”随机挑选的无重复“的抽象基类(组件)。\n",
    "\n",
    "抽象基类命名为 Tombola，一共有四个方法，以下两个是抽象方法：\n",
    "- load(...): 把元素放入容器。\n",
    "- pick(): 从容器中随机拿出一个元素，返回选中的元素。\n",
    "\n",
    "另外两个是具体方法：\n",
    "- loaded(): 如果容器总至少有一个元素，返回True。\n",
    "- inspect: 返回一个有序元组，有容器内的现有元素构成。\n",
    "\n",
    "Tombola抽象基类和三个具体实现。\n",
    "\n",
    "![抽象基类-Tombola.jpg](./image/抽象基类-Tombola.jpg)\n",
    "\n",
    "下面是 Tombola 抽象基类的定义。"
   ]
  },
  {
   "cell_type": "code",
   "execution_count": 19,
   "id": "24848fd7",
   "metadata": {},
   "outputs": [],
   "source": [
    "import abc\n",
    "class Tombola(abc.ABC): # 自己定义的抽象基类要继承abc.ABC。\n",
    "    @abc.abstractmethod\n",
    "    def load(self, iterable):\n",
    "        \"\"\"add element from iterable.\"\"\"\n",
    "        \n",
    "    @abc.abstractmethod # 抽象方法使用@abstractmethod装饰器标记，而且定义体中通常只有文档字符串。\n",
    "    def pick(self):\n",
    "        \"\"\"random delete element, and return element.\"\"\"\n",
    "    \n",
    "    def loaded(self): # 抽象基类可以包含具体方法。\n",
    "        \"\"\"return ture if element number > 1, else false.\"\"\"\n",
    "        return bool(self.inspect())\n",
    "    \n",
    "    def inspect(self): # 抽象基类中的具体方法只能依赖抽象基类定义的接口（即只能使用抽象基类中的其他具体方法、抽象方法或特性）。\n",
    "        \"\"\"return ordered tuple\"\"\"\n",
    "        items = []\n",
    "        while True:\n",
    "            try:\n",
    "                items.append(self.pick())\n",
    "            except LookupError:\n",
    "                break\n",
    "        self.load(items)\n",
    "        return tuple(sorted(items))"
   ]
  },
  {
   "cell_type": "markdown",
   "id": "134bac40",
   "metadata": {},
   "source": [
    "**其实，抽象方法可以有实现代码。即便实现了，子类也必须覆盖抽象方法，但是在子类中可以使用super（　）函数调用抽象方法，为它添加功能，而不是从头开始实现。**\n",
    "\n",
    "下面展示不符合 Tombola 要求的子类无法蒙混过关。"
   ]
  },
  {
   "cell_type": "code",
   "execution_count": 9,
   "id": "ad174bbb",
   "metadata": {},
   "outputs": [
    {
     "ename": "TypeError",
     "evalue": "Can't instantiate abstract class Fake with abstract method load",
     "output_type": "error",
     "traceback": [
      "\u001b[0;31m---------------------------------------------------------------------------\u001b[0m",
      "\u001b[0;31mTypeError\u001b[0m                                 Traceback (most recent call last)",
      "Cell \u001b[0;32mIn[9], line 5\u001b[0m\n\u001b[1;32m      3\u001b[0m         \u001b[38;5;28;01mreturn\u001b[39;00m \u001b[38;5;241m13\u001b[39m\n\u001b[1;32m      4\u001b[0m Fake\n\u001b[0;32m----> 5\u001b[0m f \u001b[38;5;241m=\u001b[39m \u001b[43mFake\u001b[49m\u001b[43m(\u001b[49m\u001b[43m)\u001b[49m\n",
      "\u001b[0;31mTypeError\u001b[0m: Can't instantiate abstract class Fake with abstract method load"
     ]
    }
   ],
   "source": [
    "class Fake(Tombola):\n",
    "    def pick(self):\n",
    "        return 13\n",
    "Fake # No Error\n",
    "f = Fake() # instance will report Error."
   ]
  },
  {
   "cell_type": "markdown",
   "id": "0b226dff",
   "metadata": {},
   "source": [
    "### 抽象基类句法详解"
   ]
  },
  {
   "cell_type": "markdown",
   "id": "95cb1309",
   "metadata": {},
   "source": [
    "声明抽象基类最简单的方式是继承abc.ABC或其他抽象基类。\n",
    "\n",
    "abc.ABC 是 Python3.4 新增的类。Python3.4之前，声明抽象基类的办法是在 class 语句中使用 metaclass=abc.ABCMeta (不是abc.ABC)。"
   ]
  },
  {
   "cell_type": "code",
   "execution_count": 14,
   "id": "349f52e8",
   "metadata": {},
   "outputs": [],
   "source": [
    "class Tombola(metaclass=abc.ABCMeta):\n",
    "    # ..."
   ]
  },
  {
   "cell_type": "markdown",
   "id": "1b50eea0",
   "metadata": {},
   "source": [
    "metaclass 特性是 Python3 引入的，Python2中必须使用 __metaclass__ 类属性。"
   ]
  },
  {
   "cell_type": "code",
   "execution_count": 17,
   "id": "2bf90435",
   "metadata": {},
   "outputs": [],
   "source": [
    "class Tombola(object):\n",
    "    __metaclass__ = abc.ABC"
   ]
  },
  {
   "cell_type": "markdown",
   "id": "f2818c9c",
   "metadata": {},
   "source": [
    "**函数装饰器堆叠。**\n",
    "\n",
    "比如声明一个类的方法为 @classmethod、@abc.abstractmethod，这时引入一个新的问题，函数装饰器堆叠顺序。\n",
    "\n",
    "一条重要的规则是，与其他方法描述符一起使用时，abstractmethod（　）应该放在最里层，也就是说，在@abstractmethod和def语句之间不能有其他装饰器。"
   ]
  },
  {
   "cell_type": "markdown",
   "id": "a26f4b3f",
   "metadata": {},
   "source": [
    "### 定义 Tombola 抽象基类的子类\n",
    "\n",
    "子类实现抽象基类的所有抽象方法。\n",
    "\n",
    "**一个深拷贝的技巧**：balls = list(\\_balls)，这样会创建 \\_balls 的副本，这个技巧在 class 的 \\_\\_init\\_\\_ 函数被用到，balls 是类变量，\\_balls 是方法的参数。"
   ]
  },
  {
   "cell_type": "markdown",
   "id": "a4da1c7a",
   "metadata": {},
   "source": [
    "### Tombola 的虚拟子类"
   ]
  },
  {
   "cell_type": "markdown",
   "id": "e7eae422",
   "metadata": {},
   "source": [
    "class_name.register 装饰器在不继承的情况下，把一个类注册为抽象基类的**虚拟子类**(与普通的子类不同)。\n",
    "\n",
    "注册虚拟子类的方式是在抽象基类上调用register方法。这么做之后，注册的类会变成抽象基类的虚拟子类，而且issubclass和isinstance等函数都能识别，但是注册的类不会从抽象基类中继承任何方法或属性。\n",
    "\n",
    "虚拟子类不会继承注册的抽象基类，而且任何时候都不会检查它是否符合抽象基类的接口，即便在实例化时也不会检查。为了避免运行时错误，虚拟子类要实现所需的全部方法。\n",
    "\n",
    "虚拟子类只是宣称可以向虚拟基类那样使用。"
   ]
  },
  {
   "cell_type": "markdown",
   "id": "863e0103",
   "metadata": {},
   "source": [
    "**一个特殊的类属性**: __mro__，记录了类的继承关系。\n",
    "\n",
    "用法：TombolaList.\\_\\_mro\\_\\_。\n",
    "\n",
    "注意，TombolaList.\\_\\_mro\\_\\_ 不包含class_name.register 装饰器注册的抽象基类。"
   ]
  },
  {
   "cell_type": "markdown",
   "id": "51002c17",
   "metadata": {},
   "source": [
    "### Tombola 子类的测试方法"
   ]
  },
  {
   "cell_type": "markdown",
   "id": "6e1a94e5",
   "metadata": {},
   "source": [
    "\\_\\_subclass\\_\\_(): 返回类的直接子类列表，不含虚拟子类。"
   ]
  },
  {
   "cell_type": "code",
   "execution_count": 28,
   "id": "a361da21",
   "metadata": {},
   "outputs": [
    {
     "data": {
      "text/plain": [
       "[__main__.Fake]"
      ]
     },
     "execution_count": 28,
     "metadata": {},
     "output_type": "execute_result"
    }
   ],
   "source": [
    "Tombola.__subclasses__()"
   ]
  },
  {
   "cell_type": "markdown",
   "id": "02eac37f",
   "metadata": {},
   "source": [
    "\\_abc\\_registry？"
   ]
  },
  {
   "cell_type": "code",
   "execution_count": null,
   "id": "6c66f85f",
   "metadata": {},
   "outputs": [],
   "source": []
  }
 ],
 "metadata": {
  "kernelspec": {
   "display_name": "Python 3 (ipykernel)",
   "language": "python",
   "name": "python3"
  },
  "language_info": {
   "codemirror_mode": {
    "name": "ipython",
    "version": 3
   },
   "file_extension": ".py",
   "mimetype": "text/x-python",
   "name": "python",
   "nbconvert_exporter": "python",
   "pygments_lexer": "ipython3",
   "version": "3.10.9"
  }
 },
 "nbformat": 4,
 "nbformat_minor": 5
}
